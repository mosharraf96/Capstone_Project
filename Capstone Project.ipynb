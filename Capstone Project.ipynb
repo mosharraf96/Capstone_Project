{
 "cells": [
  {
   "cell_type": "markdown",
   "metadata": {},
   "source": [
    "<h1> Part 1: Battle of the Neighborhoods </h1>"
   ]
  },
  {
   "cell_type": "markdown",
   "metadata": {},
   "source": [
    "<h3> In this section, we will go over two cities of South Dakota. Sioux Falls and Rapid city. We will explore which cities have more Family restaurants and will decide that it would be a good idea to open a restaurant to whatever city has fewer restaurants. Fortunately, both cities have relatively similar population and income. </h3>"
   ]
  },
  {
   "cell_type": "markdown",
   "metadata": {},
   "source": [
    "<h3> Importing the libraries </h3>"
   ]
  },
  {
   "cell_type": "code",
   "execution_count": 1,
   "metadata": {},
   "outputs": [
    {
     "name": "stdout",
     "output_type": "stream",
     "text": [
      "Collecting package metadata (current_repodata.json): done\n",
      "Solving environment: done\n",
      "\n",
      "## Package Plan ##\n",
      "\n",
      "  environment location: /home/jupyterlab/conda/envs/python\n",
      "\n",
      "  added / updated specs:\n",
      "    - geopy\n",
      "\n",
      "\n",
      "The following packages will be downloaded:\n",
      "\n",
      "    package                    |            build\n",
      "    ---------------------------|-----------------\n",
      "    geographiclib-1.50         |             py_0          34 KB  conda-forge\n",
      "    geopy-2.0.0                |     pyh9f0ad1d_0          63 KB  conda-forge\n",
      "    ------------------------------------------------------------\n",
      "                                           Total:          97 KB\n",
      "\n",
      "The following NEW packages will be INSTALLED:\n",
      "\n",
      "  geographiclib      conda-forge/noarch::geographiclib-1.50-py_0\n",
      "  geopy              conda-forge/noarch::geopy-2.0.0-pyh9f0ad1d_0\n",
      "\n",
      "\n",
      "\n",
      "Downloading and Extracting Packages\n",
      "geopy-2.0.0          | 63 KB     | ##################################### | 100% \n",
      "geographiclib-1.50   | 34 KB     | ##################################### | 100% \n",
      "Preparing transaction: done\n",
      "Verifying transaction: done\n",
      "Executing transaction: done\n",
      "Collecting package metadata (current_repodata.json): done\n",
      "Solving environment: failed with initial frozen solve. Retrying with flexible solve.\n",
      "Collecting package metadata (repodata.json): done\n",
      "Solving environment: done\n",
      "\n",
      "## Package Plan ##\n",
      "\n",
      "  environment location: /home/jupyterlab/conda/envs/python\n",
      "\n",
      "  added / updated specs:\n",
      "    - folium=0.5.0\n",
      "\n",
      "\n",
      "The following packages will be downloaded:\n",
      "\n",
      "    package                    |            build\n",
      "    ---------------------------|-----------------\n",
      "    altair-4.1.0               |             py_1         614 KB  conda-forge\n",
      "    branca-0.4.1               |             py_0          26 KB  conda-forge\n",
      "    brotlipy-0.7.0             |py36h8c4c3a4_1000         346 KB  conda-forge\n",
      "    chardet-3.0.4              |py36h9f0ad1d_1006         188 KB  conda-forge\n",
      "    cryptography-2.9.2         |   py36h45558ae_0         613 KB  conda-forge\n",
      "    folium-0.5.0               |             py_0          45 KB  conda-forge\n",
      "    pandas-1.0.5               |   py36h830a2c2_0        10.1 MB  conda-forge\n",
      "    pysocks-1.7.1              |   py36h9f0ad1d_1          27 KB  conda-forge\n",
      "    toolz-0.10.0               |             py_0          46 KB  conda-forge\n",
      "    vincent-0.4.4              |             py_1          28 KB  conda-forge\n",
      "    ------------------------------------------------------------\n",
      "                                           Total:        12.0 MB\n",
      "\n",
      "The following NEW packages will be INSTALLED:\n",
      "\n",
      "  altair             conda-forge/noarch::altair-4.1.0-py_1\n",
      "  attrs              conda-forge/noarch::attrs-19.3.0-py_0\n",
      "  branca             conda-forge/noarch::branca-0.4.1-py_0\n",
      "  brotlipy           conda-forge/linux-64::brotlipy-0.7.0-py36h8c4c3a4_1000\n",
      "  chardet            conda-forge/linux-64::chardet-3.0.4-py36h9f0ad1d_1006\n",
      "  cryptography       conda-forge/linux-64::cryptography-2.9.2-py36h45558ae_0\n",
      "  entrypoints        conda-forge/linux-64::entrypoints-0.3-py36h9f0ad1d_1001\n",
      "  folium             conda-forge/noarch::folium-0.5.0-py_0\n",
      "  idna               conda-forge/noarch::idna-2.10-pyh9f0ad1d_0\n",
      "  importlib_metadata conda-forge/noarch::importlib_metadata-1.7.0-0\n",
      "  jinja2             conda-forge/noarch::jinja2-2.11.2-pyh9f0ad1d_0\n",
      "  jsonschema         conda-forge/linux-64::jsonschema-3.2.0-py36h9f0ad1d_1\n",
      "  markupsafe         conda-forge/linux-64::markupsafe-1.1.1-py36h8c4c3a4_1\n",
      "  pandas             conda-forge/linux-64::pandas-1.0.5-py36h830a2c2_0\n",
      "  pyopenssl          conda-forge/noarch::pyopenssl-19.1.0-py_1\n",
      "  pyrsistent         conda-forge/linux-64::pyrsistent-0.16.0-py36h8c4c3a4_0\n",
      "  pysocks            conda-forge/linux-64::pysocks-1.7.1-py36h9f0ad1d_1\n",
      "  pytz               conda-forge/noarch::pytz-2020.1-pyh9f0ad1d_0\n",
      "  requests           conda-forge/noarch::requests-2.24.0-pyh9f0ad1d_0\n",
      "  toolz              conda-forge/noarch::toolz-0.10.0-py_0\n",
      "  urllib3            conda-forge/noarch::urllib3-1.25.9-py_0\n",
      "  vincent            conda-forge/noarch::vincent-0.4.4-py_1\n",
      "\n",
      "\n",
      "\n",
      "Downloading and Extracting Packages\n",
      "pysocks-1.7.1        | 27 KB     | ##################################### | 100% \n",
      "toolz-0.10.0         | 46 KB     | ##################################### | 100% \n",
      "chardet-3.0.4        | 188 KB    | ##################################### | 100% \n",
      "folium-0.5.0         | 45 KB     | ##################################### | 100% \n",
      "branca-0.4.1         | 26 KB     | ##################################### | 100% \n",
      "cryptography-2.9.2   | 613 KB    | ##################################### | 100% \n",
      "brotlipy-0.7.0       | 346 KB    | ##################################### | 100% \n",
      "altair-4.1.0         | 614 KB    | ##################################### | 100% \n",
      "pandas-1.0.5         | 10.1 MB   | ##################################### | 100% \n",
      "vincent-0.4.4        | 28 KB     | ##################################### | 100% \n",
      "Preparing transaction: done\n",
      "Verifying transaction: done\n",
      "Executing transaction: done\n",
      "Folium installed\n",
      "Libraries imported.\n"
     ]
    }
   ],
   "source": [
    "import requests # library to handle requests\n",
    "import pandas as pd # library for data analsysis\n",
    "import numpy as np # library to handle data in a vectorized manner\n",
    "import random # library for random number generation\n",
    "\n",
    "!conda install -c conda-forge geopy --yes \n",
    "from geopy.geocoders import Nominatim # module to convert an address into latitude and longitude values\n",
    "\n",
    "# libraries for displaying images\n",
    "from IPython.display import Image \n",
    "from IPython.core.display import HTML \n",
    "    \n",
    "# tranforming json file into a pandas dataframe library\n",
    "from pandas.io.json import json_normalize\n",
    "\n",
    "!conda install -c conda-forge folium=0.5.0 --yes\n",
    "import folium # plotting library\n",
    "\n",
    "print('Folium installed')\n",
    "print('Libraries imported.')"
   ]
  },
  {
   "cell_type": "markdown",
   "metadata": {},
   "source": [
    "<h3> Foursquare IDs </h3>"
   ]
  },
  {
   "cell_type": "code",
   "execution_count": 5,
   "metadata": {},
   "outputs": [
    {
     "name": "stdout",
     "output_type": "stream",
     "text": [
      "Your credentails:\n",
      "CLIENT_ID: WOMCMJOL5F50YRPVEIVKNQUXQKCQBMGE2WRSYIXQXHN4WNRL\n",
      "CLIENT_SECRET:NEYEAKKCAXI3NZVWS2JD3ITT2R3C44XXN4MMRTRWEJVOANNN\n"
     ]
    }
   ],
   "source": [
    "CLIENT_ID = 'WOMCMJOL5F50YRPVEIVKNQUXQKCQBMGE2WRSYIXQXHN4WNRL' # your Foursquare ID\n",
    "CLIENT_SECRET = 'NEYEAKKCAXI3NZVWS2JD3ITT2R3C44XXN4MMRTRWEJVOANNN' # your Foursquare Secret\n",
    "VERSION = '20200614'\n",
    "LIMIT = 30\n",
    "print('Your credentails:')\n",
    "print('CLIENT_ID: ' + CLIENT_ID)\n",
    "print('CLIENT_SECRET:' + CLIENT_SECRET)"
   ]
  },
  {
   "cell_type": "markdown",
   "metadata": {},
   "source": [
    "<h3> Downtown Sioux Falls Location </h3>"
   ]
  },
  {
   "cell_type": "code",
   "execution_count": 6,
   "metadata": {},
   "outputs": [
    {
     "name": "stdout",
     "output_type": "stream",
     "text": [
      "43.5477655 -96.7219582\n"
     ]
    }
   ],
   "source": [
    "address = '401 E 8th St, Sioux Falls, SD'\n",
    "\n",
    "geolocator = Nominatim(user_agent=\"foursquare_agent\")\n",
    "location = geolocator.geocode(address)\n",
    "latitude = location.latitude\n",
    "longitude = location.longitude\n",
    "print(latitude, longitude)"
   ]
  },
  {
   "cell_type": "markdown",
   "metadata": {},
   "source": [
    "<h3> Now we search for Family restaurants in 500 meter </h3>"
   ]
  },
  {
   "cell_type": "code",
   "execution_count": 7,
   "metadata": {},
   "outputs": [
    {
     "name": "stdout",
     "output_type": "stream",
     "text": [
      "Family Restaurant .... OK!\n"
     ]
    }
   ],
   "source": [
    "search_query = 'Family Restaurant'\n",
    "radius = 500\n",
    "print(search_query + ' .... OK!')"
   ]
  },
  {
   "cell_type": "code",
   "execution_count": 8,
   "metadata": {},
   "outputs": [
    {
     "data": {
      "text/plain": [
       "'https://api.foursquare.com/v2/venues/search?client_id=WOMCMJOL5F50YRPVEIVKNQUXQKCQBMGE2WRSYIXQXHN4WNRL&client_secret=NEYEAKKCAXI3NZVWS2JD3ITT2R3C44XXN4MMRTRWEJVOANNN&ll=43.5477655,-96.7219582&v=20200614&query=Family Restaurant&radius=500&limit=30'"
      ]
     },
     "execution_count": 8,
     "metadata": {},
     "output_type": "execute_result"
    }
   ],
   "source": [
    "url = 'https://api.foursquare.com/v2/venues/search?client_id={}&client_secret={}&ll={},{}&v={}&query={}&radius={}&limit={}'.format(CLIENT_ID, CLIENT_SECRET, latitude, longitude, VERSION, search_query, radius, LIMIT)\n",
    "url"
   ]
  },
  {
   "cell_type": "code",
   "execution_count": 9,
   "metadata": {},
   "outputs": [],
   "source": [
    "results = requests.get(url).json()"
   ]
  },
  {
   "cell_type": "markdown",
   "metadata": {},
   "source": [
    "<h3> Normalizing the Jason File for better view. </h3>"
   ]
  },
  {
   "cell_type": "code",
   "execution_count": 10,
   "metadata": {},
   "outputs": [
    {
     "name": "stderr",
     "output_type": "stream",
     "text": [
      "/home/jupyterlab/conda/envs/python/lib/python3.6/site-packages/ipykernel_launcher.py:5: FutureWarning: pandas.io.json.json_normalize is deprecated, use pandas.json_normalize instead\n",
      "  \"\"\"\n"
     ]
    }
   ],
   "source": [
    "# assign relevant part of JSON to venues\n",
    "venues = results['response']['venues']\n",
    "\n",
    "# tranform venues into a dataframe\n",
    "dataframe = json_normalize(venues)"
   ]
  },
  {
   "cell_type": "code",
   "execution_count": 11,
   "metadata": {},
   "outputs": [
    {
     "data": {
      "text/html": [
       "<div>\n",
       "<style scoped>\n",
       "    .dataframe tbody tr th:only-of-type {\n",
       "        vertical-align: middle;\n",
       "    }\n",
       "\n",
       "    .dataframe tbody tr th {\n",
       "        vertical-align: top;\n",
       "    }\n",
       "\n",
       "    .dataframe thead th {\n",
       "        text-align: right;\n",
       "    }\n",
       "</style>\n",
       "<table border=\"1\" class=\"dataframe\">\n",
       "  <thead>\n",
       "    <tr style=\"text-align: right;\">\n",
       "      <th></th>\n",
       "      <th>name</th>\n",
       "      <th>categories</th>\n",
       "      <th>address</th>\n",
       "      <th>crossStreet</th>\n",
       "      <th>lat</th>\n",
       "      <th>lng</th>\n",
       "      <th>labeledLatLngs</th>\n",
       "      <th>distance</th>\n",
       "      <th>postalCode</th>\n",
       "      <th>cc</th>\n",
       "      <th>city</th>\n",
       "      <th>state</th>\n",
       "      <th>country</th>\n",
       "      <th>formattedAddress</th>\n",
       "      <th>id</th>\n",
       "    </tr>\n",
       "  </thead>\n",
       "  <tbody>\n",
       "    <tr>\n",
       "      <th>0</th>\n",
       "      <td>Jacky’s Restaurant</td>\n",
       "      <td>Latin American Restaurant</td>\n",
       "      <td>702 E. 8th Street</td>\n",
       "      <td>Nesmith Ave.</td>\n",
       "      <td>43.548758</td>\n",
       "      <td>-96.718123</td>\n",
       "      <td>[{'label': 'display', 'lat': 43.54875838202667...</td>\n",
       "      <td>328</td>\n",
       "      <td>57103</td>\n",
       "      <td>US</td>\n",
       "      <td>Sioux Falls</td>\n",
       "      <td>SD</td>\n",
       "      <td>United States</td>\n",
       "      <td>[702 E. 8th Street (Nesmith Ave.), Sioux Falls...</td>\n",
       "      <td>4b512c35f964a520e04527e3</td>\n",
       "    </tr>\n",
       "    <tr>\n",
       "      <th>1</th>\n",
       "      <td>K Restaurant</td>\n",
       "      <td>New American Restaurant</td>\n",
       "      <td>401 E 8th St #128</td>\n",
       "      <td>NaN</td>\n",
       "      <td>43.547232</td>\n",
       "      <td>-96.722267</td>\n",
       "      <td>[{'label': 'display', 'lat': 43.54723153538433...</td>\n",
       "      <td>64</td>\n",
       "      <td>57103</td>\n",
       "      <td>US</td>\n",
       "      <td>Sioux Falls</td>\n",
       "      <td>SD</td>\n",
       "      <td>United States</td>\n",
       "      <td>[401 E 8th St #128, Sioux Falls, SD 57103, Uni...</td>\n",
       "      <td>4b7c3196f964a5207f832fe3</td>\n",
       "    </tr>\n",
       "    <tr>\n",
       "      <th>2</th>\n",
       "      <td>Los Paisanos Hispanic Restaurant</td>\n",
       "      <td>Mexican Restaurant</td>\n",
       "      <td>802 E 10th St</td>\n",
       "      <td>NaN</td>\n",
       "      <td>43.546790</td>\n",
       "      <td>-96.716517</td>\n",
       "      <td>[{'label': 'display', 'lat': 43.5467902, 'lng'...</td>\n",
       "      <td>452</td>\n",
       "      <td>57103</td>\n",
       "      <td>US</td>\n",
       "      <td>Sioux Falls</td>\n",
       "      <td>SD</td>\n",
       "      <td>United States</td>\n",
       "      <td>[802 E 10th St, Sioux Falls, SD 57103, United ...</td>\n",
       "      <td>4f9ac6b8e4b0edc56029158e</td>\n",
       "    </tr>\n",
       "    <tr>\n",
       "      <th>3</th>\n",
       "      <td>Golden Dragon Chinese Restaurant</td>\n",
       "      <td>Chinese Restaurant</td>\n",
       "      <td>121 N Indiana Ave</td>\n",
       "      <td>NaN</td>\n",
       "      <td>43.548340</td>\n",
       "      <td>-96.715980</td>\n",
       "      <td>[{'label': 'display', 'lat': 43.54833999595760...</td>\n",
       "      <td>486</td>\n",
       "      <td>57103</td>\n",
       "      <td>US</td>\n",
       "      <td>Sioux Falls</td>\n",
       "      <td>SD</td>\n",
       "      <td>United States</td>\n",
       "      <td>[121 N Indiana Ave, Sioux Falls, SD 57103, Uni...</td>\n",
       "      <td>4c81837651ada1cd1acd1310</td>\n",
       "    </tr>\n",
       "    <tr>\n",
       "      <th>4</th>\n",
       "      <td>Falls Landing Restaurant</td>\n",
       "      <td>Hotel Bar</td>\n",
       "      <td>200 E 8th St</td>\n",
       "      <td>at N. Phillips Ave.</td>\n",
       "      <td>43.548843</td>\n",
       "      <td>-96.724868</td>\n",
       "      <td>[{'label': 'display', 'lat': 43.54884258268844...</td>\n",
       "      <td>263</td>\n",
       "      <td>57103</td>\n",
       "      <td>US</td>\n",
       "      <td>Sioux Falls</td>\n",
       "      <td>SD</td>\n",
       "      <td>United States</td>\n",
       "      <td>[200 E 8th St (at N. Phillips Ave.), Sioux Fal...</td>\n",
       "      <td>4b47ba88f964a520313c26e3</td>\n",
       "    </tr>\n",
       "  </tbody>\n",
       "</table>\n",
       "</div>"
      ],
      "text/plain": [
       "                               name                 categories  \\\n",
       "0                Jacky’s Restaurant  Latin American Restaurant   \n",
       "1                      K Restaurant    New American Restaurant   \n",
       "2  Los Paisanos Hispanic Restaurant         Mexican Restaurant   \n",
       "3  Golden Dragon Chinese Restaurant         Chinese Restaurant   \n",
       "4          Falls Landing Restaurant                  Hotel Bar   \n",
       "\n",
       "             address          crossStreet        lat        lng  \\\n",
       "0  702 E. 8th Street         Nesmith Ave.  43.548758 -96.718123   \n",
       "1  401 E 8th St #128                  NaN  43.547232 -96.722267   \n",
       "2      802 E 10th St                  NaN  43.546790 -96.716517   \n",
       "3  121 N Indiana Ave                  NaN  43.548340 -96.715980   \n",
       "4       200 E 8th St  at N. Phillips Ave.  43.548843 -96.724868   \n",
       "\n",
       "                                      labeledLatLngs  distance postalCode  cc  \\\n",
       "0  [{'label': 'display', 'lat': 43.54875838202667...       328      57103  US   \n",
       "1  [{'label': 'display', 'lat': 43.54723153538433...        64      57103  US   \n",
       "2  [{'label': 'display', 'lat': 43.5467902, 'lng'...       452      57103  US   \n",
       "3  [{'label': 'display', 'lat': 43.54833999595760...       486      57103  US   \n",
       "4  [{'label': 'display', 'lat': 43.54884258268844...       263      57103  US   \n",
       "\n",
       "          city state        country  \\\n",
       "0  Sioux Falls    SD  United States   \n",
       "1  Sioux Falls    SD  United States   \n",
       "2  Sioux Falls    SD  United States   \n",
       "3  Sioux Falls    SD  United States   \n",
       "4  Sioux Falls    SD  United States   \n",
       "\n",
       "                                    formattedAddress                        id  \n",
       "0  [702 E. 8th Street (Nesmith Ave.), Sioux Falls...  4b512c35f964a520e04527e3  \n",
       "1  [401 E 8th St #128, Sioux Falls, SD 57103, Uni...  4b7c3196f964a5207f832fe3  \n",
       "2  [802 E 10th St, Sioux Falls, SD 57103, United ...  4f9ac6b8e4b0edc56029158e  \n",
       "3  [121 N Indiana Ave, Sioux Falls, SD 57103, Uni...  4c81837651ada1cd1acd1310  \n",
       "4  [200 E 8th St (at N. Phillips Ave.), Sioux Fal...  4b47ba88f964a520313c26e3  "
      ]
     },
     "execution_count": 11,
     "metadata": {},
     "output_type": "execute_result"
    }
   ],
   "source": [
    "# keep only columns that include venue name, and anything that is associated with location\n",
    "filtered_columns = ['name', 'categories'] + [col for col in dataframe.columns if col.startswith('location.')] + ['id']\n",
    "dataframe_filtered = dataframe.loc[:, filtered_columns]\n",
    "\n",
    "# function that extracts the category of the venue\n",
    "def get_category_type(row):\n",
    "    try:\n",
    "        categories_list = row['categories']\n",
    "    except:\n",
    "        categories_list = row['venue.categories']\n",
    "        \n",
    "    if len(categories_list) == 0:\n",
    "        return None\n",
    "    else:\n",
    "        return categories_list[0]['name']\n",
    "\n",
    "# filter the category for each row\n",
    "dataframe_filtered['categories'] = dataframe_filtered.apply(get_category_type, axis=1)\n",
    "\n",
    "# clean column names by keeping only last term\n",
    "dataframe_filtered.columns = [column.split('.')[-1] for column in dataframe_filtered.columns]\n",
    "\n",
    "dataframe_filtered"
   ]
  },
  {
   "cell_type": "markdown",
   "metadata": {},
   "source": [
    "<h3> Name of the restaurants. </h3>"
   ]
  },
  {
   "cell_type": "code",
   "execution_count": 10,
   "metadata": {},
   "outputs": [
    {
     "data": {
      "text/plain": [
       "0                        K Restaurant\n",
       "1                  Jacky’s Restaurant\n",
       "2    Los Paisanos Hispanic Restaurant\n",
       "3            Falls Landing Restaurant\n",
       "4    Golden Dragon Chinese Restaurant\n",
       "Name: name, dtype: object"
      ]
     },
     "execution_count": 10,
     "metadata": {},
     "output_type": "execute_result"
    }
   ],
   "source": [
    "dataframe_filtered.name"
   ]
  },
  {
   "cell_type": "markdown",
   "metadata": {},
   "source": [
    "<h3> Now we map all the restaurants in that location. Also, there is only 5 restaurants in Downtown Sioux Falls. </h3>"
   ]
  },
  {
   "cell_type": "code",
   "execution_count": 12,
   "metadata": {},
   "outputs": [
    {
     "data": {
      "text/html": [
       "<div style=\"width:100%;\"><div style=\"position:relative;width:100%;height:0;padding-bottom:60%;\"><span style=\"color:#565656\">Make this Notebook Trusted to load map: File -> Trust Notebook</span><iframe src=\"about:blank\" style=\"position:absolute;width:100%;height:100%;left:0;top:0;border:none !important;\" data-html=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 onload=\"this.contentDocument.open();this.contentDocument.write(atob(this.getAttribute('data-html')));this.contentDocument.close();\" allowfullscreen webkitallowfullscreen mozallowfullscreen></iframe></div></div>"
      ],
      "text/plain": [
       "<folium.folium.Map at 0x7f9d6a4457f0>"
      ]
     },
     "execution_count": 12,
     "metadata": {},
     "output_type": "execute_result"
    }
   ],
   "source": [
    "venues_map = folium.Map(location=[latitude, longitude], zoom_start=13)\n",
    "\n",
    "\n",
    "# add the Chinese restaurants as blue circle markers\n",
    "for lat, lng, label in zip(dataframe_filtered.lat, dataframe_filtered.lng, dataframe_filtered.categories):\n",
    "    folium.features.CircleMarker(\n",
    "        [lat, lng],\n",
    "        radius=5,\n",
    "        color='blue',\n",
    "        popup=label,\n",
    "        fill = True,\n",
    "        fill_color='blue',\n",
    "        fill_opacity=0.6\n",
    "    ).add_to(venues_map)\n",
    "\n",
    "# display map\n",
    "venues_map"
   ]
  },
  {
   "cell_type": "markdown",
   "metadata": {},
   "source": [
    "<h3> Now we will analyze the ratings of these restaurants. </h3>"
   ]
  },
  {
   "cell_type": "code",
   "execution_count": 13,
   "metadata": {},
   "outputs": [
    {
     "name": "stdout",
     "output_type": "stream",
     "text": [
      "Rating of  K Restaurant is  7.7\n",
      "Rating of  Jackys\"s Restaurant is  9.0\n",
      "Rating of  Falls Landing Restaurant is  7.9\n",
      "Rating of Golden Dragon Chinese Restaurant is 7.5\n",
      "Rating of  Los Paisanos Hispanic Restaurant is  6.3\n"
     ]
    }
   ],
   "source": [
    "venue_id = '4b7c3196f964a5207f832fe3'\n",
    "url = 'https://api.foursquare.com/v2/venues/{}?client_id={}&client_secret={}&v={}'.format(venue_id, CLIENT_ID, CLIENT_SECRET, VERSION)\n",
    "result = requests.get(url).json()\n",
    "try:\n",
    "    print('Rating of  K Restaurant is ', result['response']['venue']['rating'])\n",
    "except:\n",
    "    print('This venue has not been rated yet.')\n",
    "    \n",
    "venue_id = '4b512c35f964a520e04527e3'\n",
    "url = 'https://api.foursquare.com/v2/venues/{}?client_id={}&client_secret={}&v={}'.format(venue_id, CLIENT_ID, CLIENT_SECRET, VERSION)\n",
    "result = requests.get(url).json()\n",
    "try:\n",
    "    print('Rating of  Jackys\"s Restaurant is ',result['response']['venue']['rating'])\n",
    "except:\n",
    "    print('This venue has not been rated yet.')\n",
    "\n",
    "    \n",
    "venue_id = '4b47ba88f964a520313c26e3'\n",
    "url = 'https://api.foursquare.com/v2/venues/{}?client_id={}&client_secret={}&v={}'.format(venue_id, CLIENT_ID, CLIENT_SECRET, VERSION)\n",
    "result = requests.get(url).json()\n",
    "try:\n",
    "    print('Rating of  Falls Landing Restaurant is ',result['response']['venue']['rating'])\n",
    "except:\n",
    "    print('This venue has not been rated yet.')\n",
    "    \n",
    "venue_id = '4c81837651ada1cd1acd1310'\n",
    "url = 'https://api.foursquare.com/v2/venues/{}?client_id={}&client_secret={}&v={}'.format(venue_id, CLIENT_ID, CLIENT_SECRET, VERSION)\n",
    "result = requests.get(url).json()\n",
    "try:\n",
    "    print('Rating of Golden Dragon Chinese Restaurant is',result['response']['venue']['rating'])\n",
    "except:\n",
    "    print('This venue has not been rated yet.')\n",
    "\n",
    "venue_id = '4f9ac6b8e4b0edc56029158e'\n",
    "url = 'https://api.foursquare.com/v2/venues/{}?client_id={}&client_secret={}&v={}'.format(venue_id, CLIENT_ID, CLIENT_SECRET, VERSION)\n",
    "result = requests.get(url).json()\n",
    "try:\n",
    "    print('Rating of  Los Paisanos Hispanic Restaurant is ',result['response']['venue']['rating'])\n",
    "except:\n",
    "    print('This venue has not been rated yet.')\n",
    "\n"
   ]
  },
  {
   "cell_type": "markdown",
   "metadata": {},
   "source": [
    "<h3>Now we will find the location of downtown of Rapid City </h3>"
   ]
  },
  {
   "cell_type": "code",
   "execution_count": 14,
   "metadata": {},
   "outputs": [
    {
     "name": "stdout",
     "output_type": "stream",
     "text": [
      "44.0811262 -103.2260343\n"
     ]
    }
   ],
   "source": [
    "address1 = '512 Main St #980, Rapid City, SD'\n",
    "\n",
    "geolocator1 = Nominatim(user_agent=\"foursquare_agent\")\n",
    "location1 = geolocator1.geocode(address1)\n",
    "latitude1 = location1.latitude\n",
    "longitude1 = location1.longitude\n",
    "print(latitude1, longitude1)"
   ]
  },
  {
   "cell_type": "markdown",
   "metadata": {},
   "source": [
    "<h3> We will search for Family Restaurants in downtown Rapid city </h3>"
   ]
  },
  {
   "cell_type": "code",
   "execution_count": 15,
   "metadata": {},
   "outputs": [
    {
     "name": "stdout",
     "output_type": "stream",
     "text": [
      "Family Restaurant .... OK!\n"
     ]
    }
   ],
   "source": [
    "search_query1 = 'Family Restaurant'\n",
    "radius = 500\n",
    "print(search_query1 + ' .... OK!')"
   ]
  },
  {
   "cell_type": "code",
   "execution_count": 16,
   "metadata": {},
   "outputs": [
    {
     "data": {
      "text/plain": [
       "'https://api.foursquare.com/v2/venues/search?client_id=WOMCMJOL5F50YRPVEIVKNQUXQKCQBMGE2WRSYIXQXHN4WNRL&client_secret=NEYEAKKCAXI3NZVWS2JD3ITT2R3C44XXN4MMRTRWEJVOANNN&ll=44.0811262,-103.2260343&v=20200614&query=Family Restaurant&radius=500&limit=30'"
      ]
     },
     "execution_count": 16,
     "metadata": {},
     "output_type": "execute_result"
    }
   ],
   "source": [
    "url1 = 'https://api.foursquare.com/v2/venues/search?client_id={}&client_secret={}&ll={},{}&v={}&query={}&radius={}&limit={}'.format(CLIENT_ID, CLIENT_SECRET, latitude1, longitude1, VERSION, search_query1, radius, LIMIT)\n",
    "url1"
   ]
  },
  {
   "cell_type": "code",
   "execution_count": 17,
   "metadata": {},
   "outputs": [],
   "source": [
    "results1 = requests.get(url1).json()"
   ]
  },
  {
   "cell_type": "code",
   "execution_count": 18,
   "metadata": {},
   "outputs": [
    {
     "name": "stderr",
     "output_type": "stream",
     "text": [
      "/home/jupyterlab/conda/envs/python/lib/python3.6/site-packages/ipykernel_launcher.py:5: FutureWarning: pandas.io.json.json_normalize is deprecated, use pandas.json_normalize instead\n",
      "  \"\"\"\n"
     ]
    }
   ],
   "source": [
    "# assign relevant part of JSON to venues\n",
    "venues = results1['response']['venues']\n",
    "\n",
    "# tranform venues into a dataframe\n",
    "dataframe = json_normalize(venues)\n",
    "#dataframe.head()"
   ]
  },
  {
   "cell_type": "code",
   "execution_count": 19,
   "metadata": {},
   "outputs": [
    {
     "data": {
      "text/html": [
       "<div>\n",
       "<style scoped>\n",
       "    .dataframe tbody tr th:only-of-type {\n",
       "        vertical-align: middle;\n",
       "    }\n",
       "\n",
       "    .dataframe tbody tr th {\n",
       "        vertical-align: top;\n",
       "    }\n",
       "\n",
       "    .dataframe thead th {\n",
       "        text-align: right;\n",
       "    }\n",
       "</style>\n",
       "<table border=\"1\" class=\"dataframe\">\n",
       "  <thead>\n",
       "    <tr style=\"text-align: right;\">\n",
       "      <th></th>\n",
       "      <th>name</th>\n",
       "      <th>categories</th>\n",
       "      <th>address</th>\n",
       "      <th>lat</th>\n",
       "      <th>lng</th>\n",
       "      <th>labeledLatLngs</th>\n",
       "      <th>distance</th>\n",
       "      <th>postalCode</th>\n",
       "      <th>cc</th>\n",
       "      <th>city</th>\n",
       "      <th>state</th>\n",
       "      <th>country</th>\n",
       "      <th>formattedAddress</th>\n",
       "      <th>crossStreet</th>\n",
       "      <th>id</th>\n",
       "    </tr>\n",
       "  </thead>\n",
       "  <tbody>\n",
       "    <tr>\n",
       "      <th>0</th>\n",
       "      <td>Wine Cellar Restaurant</td>\n",
       "      <td>Wine Bar</td>\n",
       "      <td>513 6th St</td>\n",
       "      <td>44.080720</td>\n",
       "      <td>-103.227206</td>\n",
       "      <td>[{'label': 'display', 'lat': 44.08072028411001...</td>\n",
       "      <td>104</td>\n",
       "      <td>57701</td>\n",
       "      <td>US</td>\n",
       "      <td>Rapid City</td>\n",
       "      <td>SD</td>\n",
       "      <td>United States</td>\n",
       "      <td>[513 6th St, Rapid City, SD 57701, United States]</td>\n",
       "      <td>NaN</td>\n",
       "      <td>4d8a9c2d7139b1f7c134cfd4</td>\n",
       "    </tr>\n",
       "    <tr>\n",
       "      <th>1</th>\n",
       "      <td>Ixtapa Mexican Restaurant</td>\n",
       "      <td>Mexican Restaurant</td>\n",
       "      <td>603 Omaha St</td>\n",
       "      <td>44.082943</td>\n",
       "      <td>-103.226795</td>\n",
       "      <td>[{'label': 'display', 'lat': 44.08294265718444...</td>\n",
       "      <td>211</td>\n",
       "      <td>57701</td>\n",
       "      <td>US</td>\n",
       "      <td>Rapid City</td>\n",
       "      <td>SD</td>\n",
       "      <td>United States</td>\n",
       "      <td>[603 Omaha St, Rapid City, SD 57701, United St...</td>\n",
       "      <td>NaN</td>\n",
       "      <td>4d4c536d9f79f04d574e232b</td>\n",
       "    </tr>\n",
       "    <tr>\n",
       "      <th>2</th>\n",
       "      <td>Tally's Silver Spoon</td>\n",
       "      <td>American Restaurant</td>\n",
       "      <td>530 6th St</td>\n",
       "      <td>44.080089</td>\n",
       "      <td>-103.227222</td>\n",
       "      <td>[{'label': 'display', 'lat': 44.08008907276414...</td>\n",
       "      <td>149</td>\n",
       "      <td>57701</td>\n",
       "      <td>US</td>\n",
       "      <td>Rapid City</td>\n",
       "      <td>SD</td>\n",
       "      <td>United States</td>\n",
       "      <td>[530 6th St (St. Joseph), Rapid City, SD 57701...</td>\n",
       "      <td>St. Joseph</td>\n",
       "      <td>4beec3af35dc0f478439405b</td>\n",
       "    </tr>\n",
       "    <tr>\n",
       "      <th>3</th>\n",
       "      <td>Unkenholz Family Dental</td>\n",
       "      <td>Dentist's Office</td>\n",
       "      <td>716 Quincy St</td>\n",
       "      <td>44.078584</td>\n",
       "      <td>-103.230635</td>\n",
       "      <td>[{'label': 'display', 'lat': 44.078584, 'lng':...</td>\n",
       "      <td>464</td>\n",
       "      <td>57701</td>\n",
       "      <td>US</td>\n",
       "      <td>Rapid City</td>\n",
       "      <td>SD</td>\n",
       "      <td>United States</td>\n",
       "      <td>[716 Quincy St, Rapid City, SD 57701, United S...</td>\n",
       "      <td>NaN</td>\n",
       "      <td>531632e9498e04c64e4a0bbd</td>\n",
       "    </tr>\n",
       "    <tr>\n",
       "      <th>4</th>\n",
       "      <td>Family Memorials - West River Locations</td>\n",
       "      <td>Cemetery</td>\n",
       "      <td>910 Main St</td>\n",
       "      <td>44.082390</td>\n",
       "      <td>-103.233084</td>\n",
       "      <td>[{'label': 'display', 'lat': 44.0823902, 'lng'...</td>\n",
       "      <td>581</td>\n",
       "      <td>57701</td>\n",
       "      <td>US</td>\n",
       "      <td>Rapid City</td>\n",
       "      <td>SD</td>\n",
       "      <td>United States</td>\n",
       "      <td>[910 Main St, Rapid City, SD 57701, United Sta...</td>\n",
       "      <td>NaN</td>\n",
       "      <td>58b785da2f91cb604820026b</td>\n",
       "    </tr>\n",
       "    <tr>\n",
       "      <th>5</th>\n",
       "      <td>American Family Insurance - Mike Pyle Agency, Inc</td>\n",
       "      <td>Insurance Office</td>\n",
       "      <td>512 West Blvd</td>\n",
       "      <td>44.081878</td>\n",
       "      <td>-103.234206</td>\n",
       "      <td>[{'label': 'display', 'lat': 44.081878, 'lng':...</td>\n",
       "      <td>658</td>\n",
       "      <td>57701</td>\n",
       "      <td>US</td>\n",
       "      <td>Rapid City</td>\n",
       "      <td>SD</td>\n",
       "      <td>United States</td>\n",
       "      <td>[512 West Blvd, Rapid City, SD 57701, United S...</td>\n",
       "      <td>NaN</td>\n",
       "      <td>4f0ddb21e4b0129c736e5603</td>\n",
       "    </tr>\n",
       "    <tr>\n",
       "      <th>6</th>\n",
       "      <td>Enigma Restaurant</td>\n",
       "      <td>Restaurant</td>\n",
       "      <td>445 Mount Rushmore Rd</td>\n",
       "      <td>44.082134</td>\n",
       "      <td>-103.231017</td>\n",
       "      <td>[{'label': 'display', 'lat': 44.08213365611971...</td>\n",
       "      <td>413</td>\n",
       "      <td>57701</td>\n",
       "      <td>US</td>\n",
       "      <td>Rapid City</td>\n",
       "      <td>SD</td>\n",
       "      <td>United States</td>\n",
       "      <td>[445 Mount Rushmore Rd, Rapid City, SD 57701, ...</td>\n",
       "      <td>NaN</td>\n",
       "      <td>4b5908dff964a5206c7928e3</td>\n",
       "    </tr>\n",
       "    <tr>\n",
       "      <th>7</th>\n",
       "      <td>Health Source Chiropractic</td>\n",
       "      <td>Chiropractor</td>\n",
       "      <td>325 Omaha St</td>\n",
       "      <td>44.082005</td>\n",
       "      <td>-103.222679</td>\n",
       "      <td>[{'label': 'display', 'lat': 44.082005, 'lng':...</td>\n",
       "      <td>285</td>\n",
       "      <td>57701</td>\n",
       "      <td>US</td>\n",
       "      <td>Rapid City</td>\n",
       "      <td>SD</td>\n",
       "      <td>United States</td>\n",
       "      <td>[325 Omaha St, Rapid City, SD 57701, United St...</td>\n",
       "      <td>NaN</td>\n",
       "      <td>4d62d34f9f67f04d6e7093fb</td>\n",
       "    </tr>\n",
       "    <tr>\n",
       "      <th>8</th>\n",
       "      <td>Diamond Family Medicine</td>\n",
       "      <td>Doctor's Office</td>\n",
       "      <td>703 Quincy St</td>\n",
       "      <td>44.077904</td>\n",
       "      <td>-103.230296</td>\n",
       "      <td>[{'label': 'display', 'lat': 44.077904, 'lng':...</td>\n",
       "      <td>494</td>\n",
       "      <td>57701</td>\n",
       "      <td>US</td>\n",
       "      <td>Rapid City</td>\n",
       "      <td>SD</td>\n",
       "      <td>United States</td>\n",
       "      <td>[703 Quincy St, Rapid City, SD 57701, United S...</td>\n",
       "      <td>NaN</td>\n",
       "      <td>4e54136f22711d4da5c4b8df</td>\n",
       "    </tr>\n",
       "    <tr>\n",
       "      <th>9</th>\n",
       "      <td>Murphy's Pub &amp; Grill</td>\n",
       "      <td>Pub</td>\n",
       "      <td>510 9th St</td>\n",
       "      <td>44.081710</td>\n",
       "      <td>-103.232383</td>\n",
       "      <td>[{'label': 'display', 'lat': 44.08171044649926...</td>\n",
       "      <td>511</td>\n",
       "      <td>57701</td>\n",
       "      <td>US</td>\n",
       "      <td>Rapid City</td>\n",
       "      <td>SD</td>\n",
       "      <td>United States</td>\n",
       "      <td>[510 9th St, Rapid City, SD 57701, United States]</td>\n",
       "      <td>NaN</td>\n",
       "      <td>4ddf1ed781dcc5e5c55fc368</td>\n",
       "    </tr>\n",
       "  </tbody>\n",
       "</table>\n",
       "</div>"
      ],
      "text/plain": [
       "                                                name           categories  \\\n",
       "0                             Wine Cellar Restaurant             Wine Bar   \n",
       "1                          Ixtapa Mexican Restaurant   Mexican Restaurant   \n",
       "2                               Tally's Silver Spoon  American Restaurant   \n",
       "3                            Unkenholz Family Dental     Dentist's Office   \n",
       "4            Family Memorials - West River Locations             Cemetery   \n",
       "5  American Family Insurance - Mike Pyle Agency, Inc     Insurance Office   \n",
       "6                                  Enigma Restaurant           Restaurant   \n",
       "7                         Health Source Chiropractic         Chiropractor   \n",
       "8                            Diamond Family Medicine      Doctor's Office   \n",
       "9                               Murphy's Pub & Grill                  Pub   \n",
       "\n",
       "                 address        lat         lng  \\\n",
       "0             513 6th St  44.080720 -103.227206   \n",
       "1           603 Omaha St  44.082943 -103.226795   \n",
       "2             530 6th St  44.080089 -103.227222   \n",
       "3          716 Quincy St  44.078584 -103.230635   \n",
       "4            910 Main St  44.082390 -103.233084   \n",
       "5          512 West Blvd  44.081878 -103.234206   \n",
       "6  445 Mount Rushmore Rd  44.082134 -103.231017   \n",
       "7           325 Omaha St  44.082005 -103.222679   \n",
       "8          703 Quincy St  44.077904 -103.230296   \n",
       "9             510 9th St  44.081710 -103.232383   \n",
       "\n",
       "                                      labeledLatLngs  distance postalCode  cc  \\\n",
       "0  [{'label': 'display', 'lat': 44.08072028411001...       104      57701  US   \n",
       "1  [{'label': 'display', 'lat': 44.08294265718444...       211      57701  US   \n",
       "2  [{'label': 'display', 'lat': 44.08008907276414...       149      57701  US   \n",
       "3  [{'label': 'display', 'lat': 44.078584, 'lng':...       464      57701  US   \n",
       "4  [{'label': 'display', 'lat': 44.0823902, 'lng'...       581      57701  US   \n",
       "5  [{'label': 'display', 'lat': 44.081878, 'lng':...       658      57701  US   \n",
       "6  [{'label': 'display', 'lat': 44.08213365611971...       413      57701  US   \n",
       "7  [{'label': 'display', 'lat': 44.082005, 'lng':...       285      57701  US   \n",
       "8  [{'label': 'display', 'lat': 44.077904, 'lng':...       494      57701  US   \n",
       "9  [{'label': 'display', 'lat': 44.08171044649926...       511      57701  US   \n",
       "\n",
       "         city state        country  \\\n",
       "0  Rapid City    SD  United States   \n",
       "1  Rapid City    SD  United States   \n",
       "2  Rapid City    SD  United States   \n",
       "3  Rapid City    SD  United States   \n",
       "4  Rapid City    SD  United States   \n",
       "5  Rapid City    SD  United States   \n",
       "6  Rapid City    SD  United States   \n",
       "7  Rapid City    SD  United States   \n",
       "8  Rapid City    SD  United States   \n",
       "9  Rapid City    SD  United States   \n",
       "\n",
       "                                    formattedAddress crossStreet  \\\n",
       "0  [513 6th St, Rapid City, SD 57701, United States]         NaN   \n",
       "1  [603 Omaha St, Rapid City, SD 57701, United St...         NaN   \n",
       "2  [530 6th St (St. Joseph), Rapid City, SD 57701...  St. Joseph   \n",
       "3  [716 Quincy St, Rapid City, SD 57701, United S...         NaN   \n",
       "4  [910 Main St, Rapid City, SD 57701, United Sta...         NaN   \n",
       "5  [512 West Blvd, Rapid City, SD 57701, United S...         NaN   \n",
       "6  [445 Mount Rushmore Rd, Rapid City, SD 57701, ...         NaN   \n",
       "7  [325 Omaha St, Rapid City, SD 57701, United St...         NaN   \n",
       "8  [703 Quincy St, Rapid City, SD 57701, United S...         NaN   \n",
       "9  [510 9th St, Rapid City, SD 57701, United States]         NaN   \n",
       "\n",
       "                         id  \n",
       "0  4d8a9c2d7139b1f7c134cfd4  \n",
       "1  4d4c536d9f79f04d574e232b  \n",
       "2  4beec3af35dc0f478439405b  \n",
       "3  531632e9498e04c64e4a0bbd  \n",
       "4  58b785da2f91cb604820026b  \n",
       "5  4f0ddb21e4b0129c736e5603  \n",
       "6  4b5908dff964a5206c7928e3  \n",
       "7  4d62d34f9f67f04d6e7093fb  \n",
       "8  4e54136f22711d4da5c4b8df  \n",
       "9  4ddf1ed781dcc5e5c55fc368  "
      ]
     },
     "execution_count": 19,
     "metadata": {},
     "output_type": "execute_result"
    }
   ],
   "source": [
    "# keep only columns that include venue name, and anything that is associated with location\n",
    "filtered_columns = ['name', 'categories'] + [col for col in dataframe.columns if col.startswith('location.')] + ['id']\n",
    "dataframe_filtered = dataframe.loc[:, filtered_columns]\n",
    "\n",
    "# function that extracts the category of the venue\n",
    "def get_category_type(row):\n",
    "    try:\n",
    "        categories_list = row['categories']\n",
    "    except:\n",
    "        categories_list = row['venue.categories']\n",
    "        \n",
    "    if len(categories_list) == 0:\n",
    "        return None\n",
    "    else:\n",
    "        return categories_list[0]['name']\n",
    "\n",
    "# filter the category for each row\n",
    "dataframe_filtered['categories'] = dataframe_filtered.apply(get_category_type, axis=1)\n",
    "\n",
    "# clean column names by keeping only last term\n",
    "dataframe_filtered.columns = [column.split('.')[-1] for column in dataframe_filtered.columns]\n",
    "\n",
    "dataframe_filtered"
   ]
  },
  {
   "cell_type": "markdown",
   "metadata": {},
   "source": [
    "<h3> Not all of the location we found aren't restaurants. There is also 5 restaurants in Rapid City, but they also have agencies and medical centers in downtown which makes this place more popular.</h3>"
   ]
  },
  {
   "cell_type": "code",
   "execution_count": 20,
   "metadata": {},
   "outputs": [
    {
     "data": {
      "text/plain": [
       "0                               Wine Cellar Restaurant\n",
       "1                            Ixtapa Mexican Restaurant\n",
       "2                                 Tally's Silver Spoon\n",
       "3                              Unkenholz Family Dental\n",
       "4              Family Memorials - West River Locations\n",
       "5    American Family Insurance - Mike Pyle Agency, Inc\n",
       "6                                    Enigma Restaurant\n",
       "7                           Health Source Chiropractic\n",
       "8                              Diamond Family Medicine\n",
       "9                                 Murphy's Pub & Grill\n",
       "Name: name, dtype: object"
      ]
     },
     "execution_count": 20,
     "metadata": {},
     "output_type": "execute_result"
    }
   ],
   "source": [
    "dataframe_filtered.name"
   ]
  },
  {
   "cell_type": "markdown",
   "metadata": {},
   "source": [
    "<h3> Here is the map of the locations we found in downtonw.</h3>"
   ]
  },
  {
   "cell_type": "code",
   "execution_count": 21,
   "metadata": {},
   "outputs": [
    {
     "data": {
      "text/html": [
       "<div style=\"width:100%;\"><div style=\"position:relative;width:100%;height:0;padding-bottom:60%;\"><span style=\"color:#565656\">Make this Notebook Trusted to load map: File -> Trust Notebook</span><iframe src=\"about:blank\" style=\"position:absolute;width:100%;height:100%;left:0;top:0;border:none !important;\" data-html=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 onload=\"this.contentDocument.open();this.contentDocument.write(atob(this.getAttribute('data-html')));this.contentDocument.close();\" allowfullscreen webkitallowfullscreen mozallowfullscreen></iframe></div></div>"
      ],
      "text/plain": [
       "<folium.folium.Map at 0x7f9d6a369278>"
      ]
     },
     "execution_count": 21,
     "metadata": {},
     "output_type": "execute_result"
    }
   ],
   "source": [
    "venues_map1 = folium.Map(location=[latitude1, longitude1], zoom_start=13) \n",
    "\n",
    "for lat1, lng1, label1 in zip(dataframe_filtered.lat, dataframe_filtered.lng, dataframe_filtered.categories):\n",
    "    folium.features.CircleMarker(\n",
    "        [lat1, lng1],\n",
    "        radius=5,\n",
    "        color='blue',\n",
    "        popup=label,\n",
    "        fill = True,\n",
    "        fill_color='blue',\n",
    "        fill_opacity=0.6\n",
    "    ).add_to(venues_map1)\n",
    "\n",
    "# display map\n",
    "venues_map1"
   ]
  },
  {
   "cell_type": "markdown",
   "metadata": {},
   "source": [
    "<h3> The ratings of the restaurants are... </h3>"
   ]
  },
  {
   "cell_type": "code",
   "execution_count": 22,
   "metadata": {},
   "outputs": [
    {
     "name": "stdout",
     "output_type": "stream",
     "text": [
      "The rating of Wine Celler Restaurant is  6.2\n",
      "The rating of  Ixtapa Mexican Restaurant is  5.8\n",
      "The rating of Tally\"s Silver Spoon is  8.3\n",
      "The rating of Enigma Restaurant is  5.9\n",
      "The rating of Murphy\"s Pub & Grill is  8.0\n"
     ]
    }
   ],
   "source": [
    "venue_id = '4d8a9c2d7139b1f7c134cfd4'\n",
    "url = 'https://api.foursquare.com/v2/venues/{}?client_id={}&client_secret={}&v={}'.format(venue_id, CLIENT_ID, CLIENT_SECRET, VERSION)\n",
    "result = requests.get(url).json()\n",
    "try:\n",
    "    print('The rating of Wine Celler Restaurant is ',result['response']['venue']['rating'])\n",
    "except:\n",
    "    print('This venue has not been rated yet.')\n",
    "    \n",
    "venue_id = '4d4c536d9f79f04d574e232b'\n",
    "url = 'https://api.foursquare.com/v2/venues/{}?client_id={}&client_secret={}&v={}'.format(venue_id, CLIENT_ID, CLIENT_SECRET, VERSION)\n",
    "result = requests.get(url).json()\n",
    "try:\n",
    "    print('The rating of  Ixtapa Mexican Restaurant is ',result['response']['venue']['rating'])\n",
    "except:\n",
    "    print('This venue has not been rated yet.')\n",
    "    \n",
    "venue_id = '4beec3af35dc0f478439405b'\n",
    "url = 'https://api.foursquare.com/v2/venues/{}?client_id={}&client_secret={}&v={}'.format(venue_id, CLIENT_ID, CLIENT_SECRET, VERSION)\n",
    "result = requests.get(url).json()\n",
    "try:\n",
    "    print('The rating of Tally\"s Silver Spoon is ',result['response']['venue']['rating'])\n",
    "except:\n",
    "    print('This venue has not been rated yet.')\n",
    "    \n",
    "venue_id = '4b5908dff964a5206c7928e3'\n",
    "url = 'https://api.foursquare.com/v2/venues/{}?client_id={}&client_secret={}&v={}'.format(venue_id, CLIENT_ID, CLIENT_SECRET, VERSION)\n",
    "result = requests.get(url).json()\n",
    "try:\n",
    "    print('The rating of Enigma Restaurant is ',result['response']['venue']['rating'])\n",
    "except:\n",
    "    print('This venue has not been rated yet.')\n",
    "    \n",
    "venue_id = '4ddf1ed781dcc5e5c55fc368'\n",
    "url = 'https://api.foursquare.com/v2/venues/{}?client_id={}&client_secret={}&v={}'.format(venue_id, CLIENT_ID, CLIENT_SECRET, VERSION)\n",
    "result = requests.get(url).json()\n",
    "try:\n",
    "    print('The rating of Murphy\"s Pub & Grill is ',result['response']['venue']['rating'])\n",
    "except:\n",
    "    print('This venue has not been rated yet.')"
   ]
  },
  {
   "cell_type": "markdown",
   "metadata": {},
   "source": [
    "<h3> Conclusion: When comparing with the two locations, Rapid city has more locations in downtown but the restaurants are average and there is nothing extraordinary here. Restaurants in Sioux Falls have better rating but Sioux Falls downtown doesn't have quite as much location as Rapid City has. </h3>"
   ]
  },
  {
   "cell_type": "code",
   "execution_count": null,
   "metadata": {},
   "outputs": [],
   "source": []
  }
 ],
 "metadata": {
  "kernelspec": {
   "display_name": "Python",
   "language": "python",
   "name": "conda-env-python-py"
  },
  "language_info": {
   "codemirror_mode": {
    "name": "ipython",
    "version": 3
   },
   "file_extension": ".py",
   "mimetype": "text/x-python",
   "name": "python",
   "nbconvert_exporter": "python",
   "pygments_lexer": "ipython3",
   "version": "3.6.10"
  }
 },
 "nbformat": 4,
 "nbformat_minor": 4
}
