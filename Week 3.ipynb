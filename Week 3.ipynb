{
 "cells": [
  {
   "cell_type": "markdown",
   "metadata": {},
   "source": [
    "<h1> Part 1: Canadia Postal Code </h3>"
   ]
  },
  {
   "cell_type": "markdown",
   "metadata": {},
   "source": [
    "<h3> Imports the necessary libraries </h3>"
   ]
  },
  {
   "cell_type": "code",
   "execution_count": 5,
   "metadata": {},
   "outputs": [
    {
     "name": "stdout",
     "output_type": "stream",
     "text": [
      "Collecting package metadata (current_repodata.json): done\n",
      "Solving environment: done\n",
      "\n",
      "## Package Plan ##\n",
      "\n",
      "  environment location: /home/jupyterlab/conda/envs/python\n",
      "\n",
      "  added / updated specs:\n",
      "    - lxml\n",
      "\n",
      "\n",
      "The following packages will be downloaded:\n",
      "\n",
      "    package                    |            build\n",
      "    ---------------------------|-----------------\n",
      "    ca-certificates-2020.1.1   |                0         132 KB  anaconda\n",
      "    certifi-2020.4.5.1         |           py36_0         159 KB  anaconda\n",
      "    libxslt-1.1.33             |       h7d1a2b0_0         577 KB  anaconda\n",
      "    lxml-4.5.1                 |   py36hefd8a0e_0         1.4 MB  anaconda\n",
      "    openssl-1.1.1g             |       h7b6447c_0         3.8 MB  anaconda\n",
      "    ------------------------------------------------------------\n",
      "                                           Total:         6.0 MB\n",
      "\n",
      "The following NEW packages will be INSTALLED:\n",
      "\n",
      "  libxslt            anaconda/linux-64::libxslt-1.1.33-h7d1a2b0_0\n",
      "  lxml               anaconda/linux-64::lxml-4.5.1-py36hefd8a0e_0\n",
      "\n",
      "The following packages will be SUPERSEDED by a higher-priority channel:\n",
      "\n",
      "  ca-certificates    conda-forge::ca-certificates-2020.4.5~ --> anaconda::ca-certificates-2020.1.1-0\n",
      "  certifi            conda-forge::certifi-2020.4.5.1-py36h~ --> anaconda::certifi-2020.4.5.1-py36_0\n",
      "  openssl            conda-forge::openssl-1.1.1g-h516909a_0 --> anaconda::openssl-1.1.1g-h7b6447c_0\n",
      "\n",
      "\n",
      "\n",
      "Downloading and Extracting Packages\n",
      "certifi-2020.4.5.1   | 159 KB    | ##################################### | 100% \n",
      "lxml-4.5.1           | 1.4 MB    | ##################################### | 100% \n",
      "openssl-1.1.1g       | 3.8 MB    | ##################################### | 100% \n",
      "libxslt-1.1.33       | 577 KB    | ##################################### | 100% \n",
      "ca-certificates-2020 | 132 KB    | ##################################### | 100% \n",
      "Preparing transaction: done\n",
      "Verifying transaction: done\n",
      "Executing transaction: done\n",
      "\n",
      "Note: you may need to restart the kernel to use updated packages.\n"
     ]
    }
   ],
   "source": [
    "conda install -c anaconda lxml"
   ]
  },
  {
   "cell_type": "code",
   "execution_count": 6,
   "metadata": {},
   "outputs": [],
   "source": [
    "import requests\n",
    "import lxml.html as lh\n",
    "import pandas as pd"
   ]
  },
  {
   "cell_type": "markdown",
   "metadata": {},
   "source": [
    "<h3> Gets the html and finds specific tags </h3>"
   ]
  },
  {
   "cell_type": "code",
   "execution_count": 7,
   "metadata": {},
   "outputs": [],
   "source": [
    "url='https://en.wikipedia.org/wiki/List_of_postal_codes_of_Canada:_M'\n",
    "#Create a handle, page, to handle the contents of the website\n",
    "page = requests.get(url)\n",
    "#Store the contents of the website under doc\n",
    "doc = lh.fromstring(page.content)\n",
    "#Parse data that are stored between <tr>..</tr> of HTML\n",
    "tr_elements = doc.xpath('//tr')"
   ]
  },
  {
   "cell_type": "markdown",
   "metadata": {},
   "source": [
    "<h3> Stores the first row as header </h3>"
   ]
  },
  {
   "cell_type": "code",
   "execution_count": 8,
   "metadata": {},
   "outputs": [
    {
     "name": "stdout",
     "output_type": "stream",
     "text": [
      "1:\"Postal Code\n",
      "\"\n",
      "2:\"Borough\n",
      "\"\n",
      "3:\"Neighborhood\n",
      "\"\n"
     ]
    }
   ],
   "source": [
    "#Check the length of the first 12 rows\n",
    "[len(T) for T in tr_elements[:12]]\n",
    "\n",
    "tr_elements = doc.xpath('//tr')\n",
    "#Create empty list\n",
    "col=[]\n",
    "i=0\n",
    "#For each row, store each first element (header) and an empty list\n",
    "for t in tr_elements[0]:\n",
    "    i+=1\n",
    "    name=t.text_content()\n",
    "    print('%d:\"%s\"'%(i,name))\n",
    "    col.append((name,[]))\n"
   ]
  },
  {
   "cell_type": "markdown",
   "metadata": {},
   "source": [
    "<h3> Goes through the rows and stores the values </h3>"
   ]
  },
  {
   "cell_type": "code",
   "execution_count": 9,
   "metadata": {},
   "outputs": [],
   "source": [
    "#Since out first row is the header, data is stored on the second row onwards\n",
    "for j in range(1,len(tr_elements)):\n",
    "    #T is our j'th row\n",
    "    T=tr_elements[j]\n",
    "    \n",
    "    #If row is not of size 10, the //tr data is not from our table \n",
    "    if len(T)!=3:\n",
    "        break\n",
    "    \n",
    "    #i is the index of our column\n",
    "    i=0\n",
    "    \n",
    "    #Iterate through each element of the row\n",
    "    for t in T.iterchildren():\n",
    "        \n",
    "        data=t.text_content() \n",
    "        #Check if row is empty\n",
    "        if i>0:\n",
    "        #Convert any numerical value to integers\n",
    "            try:\n",
    "                data=int(data)\n",
    "            except:\n",
    "                pass\n",
    "        #Append the data to the empty list of the i'th column\n",
    "        col[i][1].append(data)\n",
    "        #Increment i for the next column\n",
    "        i+=1"
   ]
  },
  {
   "cell_type": "code",
   "execution_count": 10,
   "metadata": {},
   "outputs": [
    {
     "data": {
      "text/plain": [
       "[181, 181, 181]"
      ]
     },
     "execution_count": 10,
     "metadata": {},
     "output_type": "execute_result"
    }
   ],
   "source": [
    "[len(C) for (title,C) in col]   #Displays the length of each column"
   ]
  },
  {
   "cell_type": "markdown",
   "metadata": {},
   "source": [
    "<h3> Stores the column names appropriately into the data frame </h3>"
   ]
  },
  {
   "cell_type": "code",
   "execution_count": 11,
   "metadata": {},
   "outputs": [
    {
     "name": "stdout",
     "output_type": "stream",
     "text": [
      "['Postal Code', 'Borough', 'Neighborhood']\n"
     ]
    }
   ],
   "source": [
    "Dict={title:column for (title,column) in col}\n",
    "df=pd.DataFrame(Dict)\n",
    "df.columns = ['Postal Code', 'Borough', 'Neighborhood'] \n",
    "print(df.columns.tolist())"
   ]
  },
  {
   "cell_type": "code",
   "execution_count": 12,
   "metadata": {},
   "outputs": [],
   "source": [
    "#Gets rid of the line break symbol\n",
    "new_df = df.replace('\\n', '', regex=True)"
   ]
  },
  {
   "cell_type": "code",
   "execution_count": 13,
   "metadata": {},
   "outputs": [],
   "source": [
    "#Drops the last row as it is unnecessary for our table\n",
    "new_df.drop(new_df.tail(1).index,inplace=True) # drops the last row"
   ]
  },
  {
   "cell_type": "markdown",
   "metadata": {},
   "source": [
    "<h3> Drops Boroughs that are not assigned and Replaces Neighborhoods that are not assigned with Borough name </h3>"
   ]
  },
  {
   "cell_type": "code",
   "execution_count": 14,
   "metadata": {},
   "outputs": [
    {
     "name": "stderr",
     "output_type": "stream",
     "text": [
      "/home/jupyterlab/conda/envs/python/lib/python3.6/site-packages/ipykernel_launcher.py:5: SettingWithCopyWarning: \n",
      "A value is trying to be set on a copy of a slice from a DataFrame.\n",
      "Try using .loc[row_indexer,col_indexer] = value instead\n",
      "\n",
      "See the caveats in the documentation: https://pandas.pydata.org/pandas-docs/stable/user_guide/indexing.html#returning-a-view-versus-a-copy\n",
      "  \"\"\"\n"
     ]
    },
    {
     "data": {
      "text/html": [
       "<div>\n",
       "<style scoped>\n",
       "    .dataframe tbody tr th:only-of-type {\n",
       "        vertical-align: middle;\n",
       "    }\n",
       "\n",
       "    .dataframe tbody tr th {\n",
       "        vertical-align: top;\n",
       "    }\n",
       "\n",
       "    .dataframe thead th {\n",
       "        text-align: right;\n",
       "    }\n",
       "</style>\n",
       "<table border=\"1\" class=\"dataframe\">\n",
       "  <thead>\n",
       "    <tr style=\"text-align: right;\">\n",
       "      <th></th>\n",
       "      <th>Postal Code</th>\n",
       "      <th>Borough</th>\n",
       "      <th>Neighborhood</th>\n",
       "    </tr>\n",
       "  </thead>\n",
       "  <tbody>\n",
       "    <tr>\n",
       "      <th>2</th>\n",
       "      <td>M3A</td>\n",
       "      <td>North York</td>\n",
       "      <td>Parkwoods</td>\n",
       "    </tr>\n",
       "    <tr>\n",
       "      <th>3</th>\n",
       "      <td>M4A</td>\n",
       "      <td>North York</td>\n",
       "      <td>Victoria Village</td>\n",
       "    </tr>\n",
       "    <tr>\n",
       "      <th>4</th>\n",
       "      <td>M5A</td>\n",
       "      <td>Downtown Toronto</td>\n",
       "      <td>Regent Park, Harbourfront</td>\n",
       "    </tr>\n",
       "    <tr>\n",
       "      <th>5</th>\n",
       "      <td>M6A</td>\n",
       "      <td>North York</td>\n",
       "      <td>Lawrence Manor, Lawrence Heights</td>\n",
       "    </tr>\n",
       "    <tr>\n",
       "      <th>6</th>\n",
       "      <td>M7A</td>\n",
       "      <td>Downtown Toronto</td>\n",
       "      <td>Queen's Park, Ontario Provincial Government</td>\n",
       "    </tr>\n",
       "    <tr>\n",
       "      <th>...</th>\n",
       "      <td>...</td>\n",
       "      <td>...</td>\n",
       "      <td>...</td>\n",
       "    </tr>\n",
       "    <tr>\n",
       "      <th>160</th>\n",
       "      <td>M8X</td>\n",
       "      <td>Etobicoke</td>\n",
       "      <td>The Kingsway, Montgomery Road, Old Mill North</td>\n",
       "    </tr>\n",
       "    <tr>\n",
       "      <th>165</th>\n",
       "      <td>M4Y</td>\n",
       "      <td>Downtown Toronto</td>\n",
       "      <td>Church and Wellesley</td>\n",
       "    </tr>\n",
       "    <tr>\n",
       "      <th>168</th>\n",
       "      <td>M7Y</td>\n",
       "      <td>East Toronto</td>\n",
       "      <td>Business reply mail Processing Centre, South C...</td>\n",
       "    </tr>\n",
       "    <tr>\n",
       "      <th>169</th>\n",
       "      <td>M8Y</td>\n",
       "      <td>Etobicoke</td>\n",
       "      <td>Old Mill South, King's Mill Park, Sunnylea, Hu...</td>\n",
       "    </tr>\n",
       "    <tr>\n",
       "      <th>178</th>\n",
       "      <td>M8Z</td>\n",
       "      <td>Etobicoke</td>\n",
       "      <td>Mimico NW, The Queensway West, South of Bloor,...</td>\n",
       "    </tr>\n",
       "  </tbody>\n",
       "</table>\n",
       "<p>103 rows × 3 columns</p>\n",
       "</div>"
      ],
      "text/plain": [
       "    Postal Code           Borough  \\\n",
       "2           M3A        North York   \n",
       "3           M4A        North York   \n",
       "4           M5A  Downtown Toronto   \n",
       "5           M6A        North York   \n",
       "6           M7A  Downtown Toronto   \n",
       "..          ...               ...   \n",
       "160         M8X         Etobicoke   \n",
       "165         M4Y  Downtown Toronto   \n",
       "168         M7Y      East Toronto   \n",
       "169         M8Y         Etobicoke   \n",
       "178         M8Z         Etobicoke   \n",
       "\n",
       "                                          Neighborhood  \n",
       "2                                            Parkwoods  \n",
       "3                                     Victoria Village  \n",
       "4                            Regent Park, Harbourfront  \n",
       "5                     Lawrence Manor, Lawrence Heights  \n",
       "6          Queen's Park, Ontario Provincial Government  \n",
       "..                                                 ...  \n",
       "160      The Kingsway, Montgomery Road, Old Mill North  \n",
       "165                               Church and Wellesley  \n",
       "168  Business reply mail Processing Centre, South C...  \n",
       "169  Old Mill South, King's Mill Park, Sunnylea, Hu...  \n",
       "178  Mimico NW, The Queensway West, South of Bloor,...  \n",
       "\n",
       "[103 rows x 3 columns]"
      ]
     },
     "execution_count": 14,
     "metadata": {},
     "output_type": "execute_result"
    }
   ],
   "source": [
    "#Drops not assigned rows\n",
    "canada_df = new_df[new_df['Borough'] != 'Not assigned']\n",
    "\n",
    "#Replaces not assigned neighborhoods with borough name\n",
    "canada_df[\"Neighborhood\"]= canada_df[\"Neighborhood\"].replace(\"Not assigned\", canada_df[\"Borough\"]) \n",
    "canada_df"
   ]
  },
  {
   "cell_type": "markdown",
   "metadata": {},
   "source": [
    "<h3> Displays the shape of the dataframe </h3>"
   ]
  },
  {
   "cell_type": "code",
   "execution_count": 15,
   "metadata": {},
   "outputs": [
    {
     "data": {
      "text/plain": [
       "(103, 3)"
      ]
     },
     "execution_count": 15,
     "metadata": {},
     "output_type": "execute_result"
    }
   ],
   "source": [
    "canada_df.shape"
   ]
  },
  {
   "cell_type": "markdown",
   "metadata": {},
   "source": [
    "<h1> Part 2: Merging Locations to the dataset </h1>"
   ]
  },
  {
   "cell_type": "markdown",
   "metadata": {},
   "source": [
    "<h3> Reads the csv file from online and displays it </h3>"
   ]
  },
  {
   "cell_type": "code",
   "execution_count": 16,
   "metadata": {},
   "outputs": [
    {
     "data": {
      "text/html": [
       "<div>\n",
       "<style scoped>\n",
       "    .dataframe tbody tr th:only-of-type {\n",
       "        vertical-align: middle;\n",
       "    }\n",
       "\n",
       "    .dataframe tbody tr th {\n",
       "        vertical-align: top;\n",
       "    }\n",
       "\n",
       "    .dataframe thead th {\n",
       "        text-align: right;\n",
       "    }\n",
       "</style>\n",
       "<table border=\"1\" class=\"dataframe\">\n",
       "  <thead>\n",
       "    <tr style=\"text-align: right;\">\n",
       "      <th></th>\n",
       "      <th>Postal Code</th>\n",
       "      <th>Latitude</th>\n",
       "      <th>Longitude</th>\n",
       "    </tr>\n",
       "  </thead>\n",
       "  <tbody>\n",
       "    <tr>\n",
       "      <th>0</th>\n",
       "      <td>M1B</td>\n",
       "      <td>43.806686</td>\n",
       "      <td>-79.194353</td>\n",
       "    </tr>\n",
       "    <tr>\n",
       "      <th>1</th>\n",
       "      <td>M1C</td>\n",
       "      <td>43.784535</td>\n",
       "      <td>-79.160497</td>\n",
       "    </tr>\n",
       "    <tr>\n",
       "      <th>2</th>\n",
       "      <td>M1E</td>\n",
       "      <td>43.763573</td>\n",
       "      <td>-79.188711</td>\n",
       "    </tr>\n",
       "    <tr>\n",
       "      <th>3</th>\n",
       "      <td>M1G</td>\n",
       "      <td>43.770992</td>\n",
       "      <td>-79.216917</td>\n",
       "    </tr>\n",
       "    <tr>\n",
       "      <th>4</th>\n",
       "      <td>M1H</td>\n",
       "      <td>43.773136</td>\n",
       "      <td>-79.239476</td>\n",
       "    </tr>\n",
       "  </tbody>\n",
       "</table>\n",
       "</div>"
      ],
      "text/plain": [
       "  Postal Code   Latitude  Longitude\n",
       "0         M1B  43.806686 -79.194353\n",
       "1         M1C  43.784535 -79.160497\n",
       "2         M1E  43.763573 -79.188711\n",
       "3         M1G  43.770992 -79.216917\n",
       "4         M1H  43.773136 -79.239476"
      ]
     },
     "execution_count": 16,
     "metadata": {},
     "output_type": "execute_result"
    }
   ],
   "source": [
    "location_df = pd.read_csv('http://cocl.us/Geospatial_data')\n",
    "location_df.head()"
   ]
  },
  {
   "cell_type": "markdown",
   "metadata": {},
   "source": [
    "<h3> Merges two dataframes into one based on postal code </h3>"
   ]
  },
  {
   "cell_type": "code",
   "execution_count": 17,
   "metadata": {},
   "outputs": [],
   "source": [
    "import pandas as pd\n",
    "canada_location = canada_df.merge(location_df, on='Postal Code', how = 'inner')"
   ]
  },
  {
   "cell_type": "code",
   "execution_count": 24,
   "metadata": {},
   "outputs": [
    {
     "data": {
      "text/html": [
       "<div>\n",
       "<style scoped>\n",
       "    .dataframe tbody tr th:only-of-type {\n",
       "        vertical-align: middle;\n",
       "    }\n",
       "\n",
       "    .dataframe tbody tr th {\n",
       "        vertical-align: top;\n",
       "    }\n",
       "\n",
       "    .dataframe thead th {\n",
       "        text-align: right;\n",
       "    }\n",
       "</style>\n",
       "<table border=\"1\" class=\"dataframe\">\n",
       "  <thead>\n",
       "    <tr style=\"text-align: right;\">\n",
       "      <th></th>\n",
       "      <th>Postal Code</th>\n",
       "      <th>Borough</th>\n",
       "      <th>Neighborhood</th>\n",
       "      <th>Latitude</th>\n",
       "      <th>Longitude</th>\n",
       "    </tr>\n",
       "  </thead>\n",
       "  <tbody>\n",
       "    <tr>\n",
       "      <th>0</th>\n",
       "      <td>M3A</td>\n",
       "      <td>North York</td>\n",
       "      <td>Parkwoods</td>\n",
       "      <td>43.753259</td>\n",
       "      <td>-79.329656</td>\n",
       "    </tr>\n",
       "    <tr>\n",
       "      <th>1</th>\n",
       "      <td>M4A</td>\n",
       "      <td>North York</td>\n",
       "      <td>Victoria Village</td>\n",
       "      <td>43.725882</td>\n",
       "      <td>-79.315572</td>\n",
       "    </tr>\n",
       "    <tr>\n",
       "      <th>2</th>\n",
       "      <td>M5A</td>\n",
       "      <td>Downtown Toronto</td>\n",
       "      <td>Regent Park, Harbourfront</td>\n",
       "      <td>43.654260</td>\n",
       "      <td>-79.360636</td>\n",
       "    </tr>\n",
       "    <tr>\n",
       "      <th>3</th>\n",
       "      <td>M6A</td>\n",
       "      <td>North York</td>\n",
       "      <td>Lawrence Manor, Lawrence Heights</td>\n",
       "      <td>43.718518</td>\n",
       "      <td>-79.464763</td>\n",
       "    </tr>\n",
       "    <tr>\n",
       "      <th>4</th>\n",
       "      <td>M7A</td>\n",
       "      <td>Downtown Toronto</td>\n",
       "      <td>Queen's Park, Ontario Provincial Government</td>\n",
       "      <td>43.662301</td>\n",
       "      <td>-79.389494</td>\n",
       "    </tr>\n",
       "  </tbody>\n",
       "</table>\n",
       "</div>"
      ],
      "text/plain": [
       "  Postal Code           Borough                                 Neighborhood  \\\n",
       "0         M3A        North York                                    Parkwoods   \n",
       "1         M4A        North York                             Victoria Village   \n",
       "2         M5A  Downtown Toronto                    Regent Park, Harbourfront   \n",
       "3         M6A        North York             Lawrence Manor, Lawrence Heights   \n",
       "4         M7A  Downtown Toronto  Queen's Park, Ontario Provincial Government   \n",
       "\n",
       "    Latitude  Longitude  \n",
       "0  43.753259 -79.329656  \n",
       "1  43.725882 -79.315572  \n",
       "2  43.654260 -79.360636  \n",
       "3  43.718518 -79.464763  \n",
       "4  43.662301 -79.389494  "
      ]
     },
     "execution_count": 24,
     "metadata": {},
     "output_type": "execute_result"
    }
   ],
   "source": [
    "canada_location.head()"
   ]
  },
  {
   "cell_type": "markdown",
   "metadata": {},
   "source": [
    "<h1> Part 3: Geomapping </h1>"
   ]
  },
  {
   "cell_type": "markdown",
   "metadata": {},
   "source": [
    "<h3> Installs Folium package for geomapping </h3>"
   ]
  },
  {
   "cell_type": "code",
   "execution_count": 20,
   "metadata": {},
   "outputs": [
    {
     "name": "stdout",
     "output_type": "stream",
     "text": [
      "Collecting package metadata (current_repodata.json): done\n",
      "Solving environment: failed with initial frozen solve. Retrying with flexible solve.\n",
      "Collecting package metadata (repodata.json): done\n",
      "Solving environment: done\n",
      "\n",
      "## Package Plan ##\n",
      "\n",
      "  environment location: /home/jupyterlab/conda/envs/python\n",
      "\n",
      "  added / updated specs:\n",
      "    - folium=0.5.0\n",
      "\n",
      "\n",
      "The following packages will be downloaded:\n",
      "\n",
      "    package                    |            build\n",
      "    ---------------------------|-----------------\n",
      "    altair-4.1.0               |             py_1         614 KB  conda-forge\n",
      "    branca-0.4.1               |             py_0          26 KB  conda-forge\n",
      "    brotlipy-0.7.0             |py36h8c4c3a4_1000         346 KB  conda-forge\n",
      "    ca-certificates-2020.4.5.2 |       hecda079_0         147 KB  conda-forge\n",
      "    certifi-2020.4.5.2         |   py36h9f0ad1d_0         152 KB  conda-forge\n",
      "    chardet-3.0.4              |py36h9f0ad1d_1006         188 KB  conda-forge\n",
      "    cryptography-2.9.2         |   py36h45558ae_0         613 KB  conda-forge\n",
      "    folium-0.5.0               |             py_0          45 KB  conda-forge\n",
      "    pandas-1.0.4               |   py36h830a2c2_0        10.1 MB  conda-forge\n",
      "    pysocks-1.7.1              |   py36h9f0ad1d_1          27 KB  conda-forge\n",
      "    toolz-0.10.0               |             py_0          46 KB  conda-forge\n",
      "    vincent-0.4.4              |             py_1          28 KB  conda-forge\n",
      "    ------------------------------------------------------------\n",
      "                                           Total:        12.3 MB\n",
      "\n",
      "The following NEW packages will be INSTALLED:\n",
      "\n",
      "  altair             conda-forge/noarch::altair-4.1.0-py_1\n",
      "  attrs              conda-forge/noarch::attrs-19.3.0-py_0\n",
      "  branca             conda-forge/noarch::branca-0.4.1-py_0\n",
      "  brotlipy           conda-forge/linux-64::brotlipy-0.7.0-py36h8c4c3a4_1000\n",
      "  chardet            conda-forge/linux-64::chardet-3.0.4-py36h9f0ad1d_1006\n",
      "  cryptography       conda-forge/linux-64::cryptography-2.9.2-py36h45558ae_0\n",
      "  entrypoints        conda-forge/linux-64::entrypoints-0.3-py36h9f0ad1d_1001\n",
      "  folium             conda-forge/noarch::folium-0.5.0-py_0\n",
      "  idna               conda-forge/noarch::idna-2.9-py_1\n",
      "  importlib_metadata conda-forge/noarch::importlib_metadata-1.6.0-0\n",
      "  jinja2             conda-forge/noarch::jinja2-2.11.2-pyh9f0ad1d_0\n",
      "  jsonschema         conda-forge/linux-64::jsonschema-3.2.0-py36h9f0ad1d_1\n",
      "  markupsafe         conda-forge/linux-64::markupsafe-1.1.1-py36h8c4c3a4_1\n",
      "  pandas             conda-forge/linux-64::pandas-1.0.4-py36h830a2c2_0\n",
      "  pyopenssl          conda-forge/noarch::pyopenssl-19.1.0-py_1\n",
      "  pyrsistent         conda-forge/linux-64::pyrsistent-0.16.0-py36h8c4c3a4_0\n",
      "  pysocks            conda-forge/linux-64::pysocks-1.7.1-py36h9f0ad1d_1\n",
      "  pytz               conda-forge/noarch::pytz-2020.1-pyh9f0ad1d_0\n",
      "  requests           conda-forge/noarch::requests-2.23.0-pyh8c360ce_2\n",
      "  toolz              conda-forge/noarch::toolz-0.10.0-py_0\n",
      "  urllib3            conda-forge/noarch::urllib3-1.25.9-py_0\n",
      "  vincent            conda-forge/noarch::vincent-0.4.4-py_1\n",
      "\n",
      "The following packages will be UPDATED:\n",
      "\n",
      "  ca-certificates      anaconda::ca-certificates-2020.1.1-0 --> conda-forge::ca-certificates-2020.4.5.2-hecda079_0\n",
      "  certifi               anaconda::certifi-2020.4.5.1-py36_0 --> conda-forge::certifi-2020.4.5.2-py36h9f0ad1d_0\n",
      "\n",
      "The following packages will be SUPERSEDED by a higher-priority channel:\n",
      "\n",
      "  openssl               anaconda::openssl-1.1.1g-h7b6447c_0 --> conda-forge::openssl-1.1.1g-h516909a_0\n",
      "\n",
      "\n",
      "\n",
      "Downloading and Extracting Packages\n",
      "certifi-2020.4.5.2   | 152 KB    | ##################################### | 100% \n",
      "ca-certificates-2020 | 147 KB    | ##################################### | 100% \n",
      "pysocks-1.7.1        | 27 KB     | ##################################### | 100% \n",
      "toolz-0.10.0         | 46 KB     | ##################################### | 100% \n",
      "chardet-3.0.4        | 188 KB    | ##################################### | 100% \n",
      "pandas-1.0.4         | 10.1 MB   | ##################################### | 100% \n",
      "folium-0.5.0         | 45 KB     | ##################################### | 100% \n",
      "branca-0.4.1         | 26 KB     | ##################################### | 100% \n",
      "cryptography-2.9.2   | 613 KB    | ##################################### | 100% \n",
      "brotlipy-0.7.0       | 346 KB    | ##################################### | 100% \n",
      "altair-4.1.0         | 614 KB    | ##################################### | 100% \n",
      "vincent-0.4.4        | 28 KB     | ##################################### | 100% \n",
      "Preparing transaction: done\n",
      "Verifying transaction: done\n",
      "Executing transaction: done\n",
      "imported\n"
     ]
    }
   ],
   "source": [
    "!conda install -c conda-forge folium=0.5.0 --yes \n",
    "import folium \n",
    "print(\"imported\")"
   ]
  },
  {
   "cell_type": "markdown",
   "metadata": {},
   "source": [
    "<h3> Creates the map and tags the Boroughs </h3>"
   ]
  },
  {
   "cell_type": "code",
   "execution_count": 33,
   "metadata": {},
   "outputs": [
    {
     "data": {
      "text/html": [
       "<div style=\"width:100%;\"><div style=\"position:relative;width:100%;height:0;padding-bottom:60%;\"><span style=\"color:#565656\">Make this Notebook Trusted to load map: File -> Trust Notebook</span><iframe src=\"about:blank\" style=\"position:absolute;width:100%;height:100%;left:0;top:0;border:none !important;\" data-html=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 onload=\"this.contentDocument.open();this.contentDocument.write(atob(this.getAttribute('data-html')));this.contentDocument.close();\" allowfullscreen webkitallowfullscreen mozallowfullscreen></iframe></div></div>"
      ],
      "text/plain": [
       "<folium.folium.Map at 0x7f8425d6fb00>"
      ]
     },
     "execution_count": 33,
     "metadata": {},
     "output_type": "execute_result"
    }
   ],
   "source": [
    "# create map\n",
    "\n",
    "locations = canada_location[['Latitude', 'Longitude']]\n",
    "locationlist = locations.values.tolist()\n",
    "len(locationlist)\n",
    "\n",
    "\n",
    "map = folium.Map(location=[43.733259, -79.329656], zoom_start=11)\n",
    "for point in range(0, len(locationlist)):\n",
    "    folium.Marker(locationlist[point], popup=canada_location['Borough'][point]).add_to(map)\n",
    "map\n"
   ]
  },
  {
   "cell_type": "code",
   "execution_count": null,
   "metadata": {},
   "outputs": [],
   "source": []
  }
 ],
 "metadata": {
  "kernelspec": {
   "display_name": "Python",
   "language": "python",
   "name": "conda-env-python-py"
  },
  "language_info": {
   "codemirror_mode": {
    "name": "ipython",
    "version": 3
   },
   "file_extension": ".py",
   "mimetype": "text/x-python",
   "name": "python",
   "nbconvert_exporter": "python",
   "pygments_lexer": "ipython3",
   "version": "3.6.10"
  }
 },
 "nbformat": 4,
 "nbformat_minor": 4
}
